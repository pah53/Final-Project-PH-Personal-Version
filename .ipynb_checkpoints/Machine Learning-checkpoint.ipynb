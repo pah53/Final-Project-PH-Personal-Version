{
 "cells": [
  {
   "cell_type": "code",
   "execution_count": 1,
   "metadata": {},
   "outputs": [],
   "source": [
    "# Importing Libraries and Data\n",
    "import numpy as np\n",
    "import pandas as pd\n",
    "import matplotlib.pylab as plt\n",
    "import seaborn as sns\n",
    "from sklearn.preprocessing import StandardScaler\n",
    "\n",
    "#Reading in data file\n",
    "df = pd.read_csv(\"vehicles_cleaned.csv\")"
   ]
  },
  {
   "cell_type": "code",
   "execution_count": 2,
   "metadata": {},
   "outputs": [
    {
     "data": {
      "text/html": [
       "<div>\n",
       "<style scoped>\n",
       "    .dataframe tbody tr th:only-of-type {\n",
       "        vertical-align: middle;\n",
       "    }\n",
       "\n",
       "    .dataframe tbody tr th {\n",
       "        vertical-align: top;\n",
       "    }\n",
       "\n",
       "    .dataframe thead th {\n",
       "        text-align: right;\n",
       "    }\n",
       "</style>\n",
       "<table border=\"1\" class=\"dataframe\">\n",
       "  <thead>\n",
       "    <tr style=\"text-align: right;\">\n",
       "      <th></th>\n",
       "      <th>Unnamed: 0</th>\n",
       "      <th>price</th>\n",
       "      <th>year</th>\n",
       "      <th>manufacturer</th>\n",
       "      <th>fuel</th>\n",
       "      <th>odometer</th>\n",
       "      <th>title_status</th>\n",
       "      <th>transmission</th>\n",
       "      <th>drive</th>\n",
       "      <th>type</th>\n",
       "      <th>lat</th>\n",
       "      <th>long</th>\n",
       "    </tr>\n",
       "  </thead>\n",
       "  <tbody>\n",
       "    <tr>\n",
       "      <th>0</th>\n",
       "      <td>0</td>\n",
       "      <td>10299</td>\n",
       "      <td>2012.0</td>\n",
       "      <td>acura</td>\n",
       "      <td>gas</td>\n",
       "      <td>90186.0</td>\n",
       "      <td>clean</td>\n",
       "      <td>automatic</td>\n",
       "      <td>NaN</td>\n",
       "      <td>other</td>\n",
       "      <td>35.7636</td>\n",
       "      <td>-78.7443</td>\n",
       "    </tr>\n",
       "    <tr>\n",
       "      <th>1</th>\n",
       "      <td>2</td>\n",
       "      <td>9500</td>\n",
       "      <td>2011.0</td>\n",
       "      <td>jaguar</td>\n",
       "      <td>gas</td>\n",
       "      <td>85000.0</td>\n",
       "      <td>clean</td>\n",
       "      <td>automatic</td>\n",
       "      <td>NaN</td>\n",
       "      <td>NaN</td>\n",
       "      <td>36.1032</td>\n",
       "      <td>-79.8794</td>\n",
       "    </tr>\n",
       "    <tr>\n",
       "      <th>2</th>\n",
       "      <td>3</td>\n",
       "      <td>3995</td>\n",
       "      <td>2004.0</td>\n",
       "      <td>honda</td>\n",
       "      <td>gas</td>\n",
       "      <td>212526.0</td>\n",
       "      <td>clean</td>\n",
       "      <td>automatic</td>\n",
       "      <td>fwd</td>\n",
       "      <td>SUV</td>\n",
       "      <td>35.7636</td>\n",
       "      <td>-78.7443</td>\n",
       "    </tr>\n",
       "    <tr>\n",
       "      <th>3</th>\n",
       "      <td>5</td>\n",
       "      <td>12995</td>\n",
       "      <td>2015.0</td>\n",
       "      <td>kia</td>\n",
       "      <td>gas</td>\n",
       "      <td>85127.0</td>\n",
       "      <td>clean</td>\n",
       "      <td>automatic</td>\n",
       "      <td>4wd</td>\n",
       "      <td>wagon</td>\n",
       "      <td>35.7636</td>\n",
       "      <td>-78.7443</td>\n",
       "    </tr>\n",
       "    <tr>\n",
       "      <th>4</th>\n",
       "      <td>6</td>\n",
       "      <td>10995</td>\n",
       "      <td>2014.0</td>\n",
       "      <td>chevrolet</td>\n",
       "      <td>gas</td>\n",
       "      <td>112383.0</td>\n",
       "      <td>clean</td>\n",
       "      <td>automatic</td>\n",
       "      <td>fwd</td>\n",
       "      <td>SUV</td>\n",
       "      <td>35.7636</td>\n",
       "      <td>-78.7443</td>\n",
       "    </tr>\n",
       "  </tbody>\n",
       "</table>\n",
       "</div>"
      ],
      "text/plain": [
       "   Unnamed: 0  price    year manufacturer fuel  odometer title_status  \\\n",
       "0           0  10299  2012.0        acura  gas   90186.0        clean   \n",
       "1           2   9500  2011.0       jaguar  gas   85000.0        clean   \n",
       "2           3   3995  2004.0        honda  gas  212526.0        clean   \n",
       "3           5  12995  2015.0          kia  gas   85127.0        clean   \n",
       "4           6  10995  2014.0    chevrolet  gas  112383.0        clean   \n",
       "\n",
       "  transmission drive   type      lat     long  \n",
       "0    automatic   NaN  other  35.7636 -78.7443  \n",
       "1    automatic   NaN    NaN  36.1032 -79.8794  \n",
       "2    automatic   fwd    SUV  35.7636 -78.7443  \n",
       "3    automatic   4wd  wagon  35.7636 -78.7443  \n",
       "4    automatic   fwd    SUV  35.7636 -78.7443  "
      ]
     },
     "execution_count": 2,
     "metadata": {},
     "output_type": "execute_result"
    }
   ],
   "source": [
    "#Getting a view of the data file\n",
    "df.head()"
   ]
  },
  {
   "cell_type": "code",
   "execution_count": 3,
   "metadata": {},
   "outputs": [
    {
     "data": {
      "text/html": [
       "<div>\n",
       "<style scoped>\n",
       "    .dataframe tbody tr th:only-of-type {\n",
       "        vertical-align: middle;\n",
       "    }\n",
       "\n",
       "    .dataframe tbody tr th {\n",
       "        vertical-align: top;\n",
       "    }\n",
       "\n",
       "    .dataframe thead th {\n",
       "        text-align: right;\n",
       "    }\n",
       "</style>\n",
       "<table border=\"1\" class=\"dataframe\">\n",
       "  <thead>\n",
       "    <tr style=\"text-align: right;\">\n",
       "      <th></th>\n",
       "      <th>Unnamed: 0</th>\n",
       "      <th>price</th>\n",
       "      <th>year</th>\n",
       "      <th>odometer</th>\n",
       "      <th>lat</th>\n",
       "      <th>long</th>\n",
       "    </tr>\n",
       "  </thead>\n",
       "  <tbody>\n",
       "    <tr>\n",
       "      <th>count</th>\n",
       "      <td>378282.000000</td>\n",
       "      <td>378282.000000</td>\n",
       "      <td>378282.000000</td>\n",
       "      <td>378282.000000</td>\n",
       "      <td>375054.000000</td>\n",
       "      <td>375054.000000</td>\n",
       "    </tr>\n",
       "    <tr>\n",
       "      <th>mean</th>\n",
       "      <td>269314.529779</td>\n",
       "      <td>13485.515634</td>\n",
       "      <td>2010.451277</td>\n",
       "      <td>99863.857461</td>\n",
       "      <td>38.649627</td>\n",
       "      <td>-93.792458</td>\n",
       "    </tr>\n",
       "    <tr>\n",
       "      <th>std</th>\n",
       "      <td>156033.402681</td>\n",
       "      <td>8683.848464</td>\n",
       "      <td>7.034303</td>\n",
       "      <td>57685.741436</td>\n",
       "      <td>5.761292</td>\n",
       "      <td>17.632204</td>\n",
       "    </tr>\n",
       "    <tr>\n",
       "      <th>min</th>\n",
       "      <td>0.000000</td>\n",
       "      <td>1000.000000</td>\n",
       "      <td>1908.000000</td>\n",
       "      <td>0.000000</td>\n",
       "      <td>-84.911400</td>\n",
       "      <td>-170.288000</td>\n",
       "    </tr>\n",
       "    <tr>\n",
       "      <th>25%</th>\n",
       "      <td>133776.250000</td>\n",
       "      <td>6300.000000</td>\n",
       "      <td>2007.000000</td>\n",
       "      <td>52134.000000</td>\n",
       "      <td>34.601900</td>\n",
       "      <td>-106.618500</td>\n",
       "    </tr>\n",
       "    <tr>\n",
       "      <th>50%</th>\n",
       "      <td>268547.500000</td>\n",
       "      <td>11900.000000</td>\n",
       "      <td>2012.000000</td>\n",
       "      <td>97466.500000</td>\n",
       "      <td>39.320000</td>\n",
       "      <td>-87.705200</td>\n",
       "    </tr>\n",
       "    <tr>\n",
       "      <th>75%</th>\n",
       "      <td>404732.750000</td>\n",
       "      <td>18975.000000</td>\n",
       "      <td>2015.000000</td>\n",
       "      <td>140000.000000</td>\n",
       "      <td>42.496500</td>\n",
       "      <td>-81.016150</td>\n",
       "    </tr>\n",
       "    <tr>\n",
       "      <th>max</th>\n",
       "      <td>539758.000000</td>\n",
       "      <td>38629.000000</td>\n",
       "      <td>2020.000000</td>\n",
       "      <td>271418.000000</td>\n",
       "      <td>84.514800</td>\n",
       "      <td>161.016000</td>\n",
       "    </tr>\n",
       "  </tbody>\n",
       "</table>\n",
       "</div>"
      ],
      "text/plain": [
       "          Unnamed: 0          price           year       odometer  \\\n",
       "count  378282.000000  378282.000000  378282.000000  378282.000000   \n",
       "mean   269314.529779   13485.515634    2010.451277   99863.857461   \n",
       "std    156033.402681    8683.848464       7.034303   57685.741436   \n",
       "min         0.000000    1000.000000    1908.000000       0.000000   \n",
       "25%    133776.250000    6300.000000    2007.000000   52134.000000   \n",
       "50%    268547.500000   11900.000000    2012.000000   97466.500000   \n",
       "75%    404732.750000   18975.000000    2015.000000  140000.000000   \n",
       "max    539758.000000   38629.000000    2020.000000  271418.000000   \n",
       "\n",
       "                 lat           long  \n",
       "count  375054.000000  375054.000000  \n",
       "mean       38.649627     -93.792458  \n",
       "std         5.761292      17.632204  \n",
       "min       -84.911400    -170.288000  \n",
       "25%        34.601900    -106.618500  \n",
       "50%        39.320000     -87.705200  \n",
       "75%        42.496500     -81.016150  \n",
       "max        84.514800     161.016000  "
      ]
     },
     "execution_count": 3,
     "metadata": {},
     "output_type": "execute_result"
    }
   ],
   "source": [
    "#Exploring data values\n",
    "df.describe()"
   ]
  },
  {
   "cell_type": "code",
   "execution_count": 4,
   "metadata": {},
   "outputs": [
    {
     "data": {
      "text/plain": [
       "<matplotlib.axes._subplots.AxesSubplot at 0x10ab20e10>"
      ]
     },
     "execution_count": 4,
     "metadata": {},
     "output_type": "execute_result"
    },
    {
     "data": {
      "image/png": "[encoded data removed]",
      "text/plain": [
       "<Figure size 432x288 with 1 Axes>"
      ]
     },
     "metadata": {
      "needs_background": "light"
     },
     "output_type": "display_data"
    }
   ],
   "source": [
    "#Removing outliers from the Price column by calculating IQR\n",
    "df = df[df['price'].between(999.99, 250000)]\n",
    "Q1 = df['price'].quantile(0.25)\n",
    "Q3 = df['price'].quantile(0.75)\n",
    "IQR = Q3 - Q1\n",
    "\n",
    "# Filtering Values between Q1-1.5IQR and Q3+1.5IQR\n",
    "df_filtered = df.query('(@Q1 - 1.5 * @IQR) <= price <= (@Q3 + 1.5 * @IQR)')\n",
    "df_filtered.boxplot('price')"
   ]
  },
  {
   "cell_type": "code",
   "execution_count": 5,
   "metadata": {},
   "outputs": [
    {
     "data": {
      "text/html": [
       "<div>\n",
       "<style scoped>\n",
       "    .dataframe tbody tr th:only-of-type {\n",
       "        vertical-align: middle;\n",
       "    }\n",
       "\n",
       "    .dataframe tbody tr th {\n",
       "        vertical-align: top;\n",
       "    }\n",
       "\n",
       "    .dataframe thead th {\n",
       "        text-align: right;\n",
       "    }\n",
       "</style>\n",
       "<table border=\"1\" class=\"dataframe\">\n",
       "  <thead>\n",
       "    <tr style=\"text-align: right;\">\n",
       "      <th></th>\n",
       "      <th>Unnamed: 0</th>\n",
       "      <th>price</th>\n",
       "      <th>year</th>\n",
       "      <th>odometer</th>\n",
       "      <th>lat</th>\n",
       "      <th>long</th>\n",
       "    </tr>\n",
       "  </thead>\n",
       "  <tbody>\n",
       "    <tr>\n",
       "      <th>count</th>\n",
       "      <td>377146.000000</td>\n",
       "      <td>377146.000000</td>\n",
       "      <td>377146.000000</td>\n",
       "      <td>377146.000000</td>\n",
       "      <td>373925.000000</td>\n",
       "      <td>373925.000000</td>\n",
       "    </tr>\n",
       "    <tr>\n",
       "      <th>mean</th>\n",
       "      <td>269345.652127</td>\n",
       "      <td>13411.257070</td>\n",
       "      <td>2010.436369</td>\n",
       "      <td>100014.132636</td>\n",
       "      <td>38.643105</td>\n",
       "      <td>-93.761206</td>\n",
       "    </tr>\n",
       "    <tr>\n",
       "      <th>std</th>\n",
       "      <td>156040.928320</td>\n",
       "      <td>8590.690846</td>\n",
       "      <td>7.030481</td>\n",
       "      <td>57665.991611</td>\n",
       "      <td>5.753456</td>\n",
       "      <td>17.614494</td>\n",
       "    </tr>\n",
       "    <tr>\n",
       "      <th>min</th>\n",
       "      <td>0.000000</td>\n",
       "      <td>1000.000000</td>\n",
       "      <td>1908.000000</td>\n",
       "      <td>0.000000</td>\n",
       "      <td>-84.911400</td>\n",
       "      <td>-170.288000</td>\n",
       "    </tr>\n",
       "    <tr>\n",
       "      <th>25%</th>\n",
       "      <td>133833.250000</td>\n",
       "      <td>6288.000000</td>\n",
       "      <td>2007.000000</td>\n",
       "      <td>52359.000000</td>\n",
       "      <td>34.601900</td>\n",
       "      <td>-106.591000</td>\n",
       "    </tr>\n",
       "    <tr>\n",
       "      <th>50%</th>\n",
       "      <td>268542.500000</td>\n",
       "      <td>11900.000000</td>\n",
       "      <td>2012.000000</td>\n",
       "      <td>97667.000000</td>\n",
       "      <td>39.313600</td>\n",
       "      <td>-87.685700</td>\n",
       "    </tr>\n",
       "    <tr>\n",
       "      <th>75%</th>\n",
       "      <td>404800.500000</td>\n",
       "      <td>18900.000000</td>\n",
       "      <td>2015.000000</td>\n",
       "      <td>140000.000000</td>\n",
       "      <td>42.486100</td>\n",
       "      <td>-81.004500</td>\n",
       "    </tr>\n",
       "    <tr>\n",
       "      <th>max</th>\n",
       "      <td>539758.000000</td>\n",
       "      <td>37987.000000</td>\n",
       "      <td>2020.000000</td>\n",
       "      <td>271418.000000</td>\n",
       "      <td>84.514800</td>\n",
       "      <td>161.016000</td>\n",
       "    </tr>\n",
       "  </tbody>\n",
       "</table>\n",
       "</div>"
      ],
      "text/plain": [
       "          Unnamed: 0          price           year       odometer  \\\n",
       "count  377146.000000  377146.000000  377146.000000  377146.000000   \n",
       "mean   269345.652127   13411.257070    2010.436369  100014.132636   \n",
       "std    156040.928320    8590.690846       7.030481   57665.991611   \n",
       "min         0.000000    1000.000000    1908.000000       0.000000   \n",
       "25%    133833.250000    6288.000000    2007.000000   52359.000000   \n",
       "50%    268542.500000   11900.000000    2012.000000   97667.000000   \n",
       "75%    404800.500000   18900.000000    2015.000000  140000.000000   \n",
       "max    539758.000000   37987.000000    2020.000000  271418.000000   \n",
       "\n",
       "                 lat           long  \n",
       "count  373925.000000  373925.000000  \n",
       "mean       38.643105     -93.761206  \n",
       "std         5.753456      17.614494  \n",
       "min       -84.911400    -170.288000  \n",
       "25%        34.601900    -106.591000  \n",
       "50%        39.313600     -87.685700  \n",
       "75%        42.486100     -81.004500  \n",
       "max        84.514800     161.016000  "
      ]
     },
     "execution_count": 5,
     "metadata": {},
     "output_type": "execute_result"
    }
   ],
   "source": [
    "#Exploring updated data values\n",
    "df_filtered.describe()"
   ]
  },
  {
   "cell_type": "code",
   "execution_count": 6,
   "metadata": {},
   "outputs": [
    {
     "data": {
      "image/png": "[encoded data removed]",
      "text/plain": [
       "<Figure size 432x288 with 2 Axes>"
      ]
     },
     "metadata": {
      "needs_background": "light"
     },
     "output_type": "display_data"
    }
   ],
   "source": [
    "#Creating a heatmap using Seaborn\n",
    "corr = df_filtered.corr()\n",
    "heatmap = sns.heatmap(corr, xticklabels=corr.columns, yticklabels=corr.columns, \\\n",
    "           annot=True, cmap=\"YlGnBu\")\n",
    "\n",
    "#Fixing the bug that cuts off the top and bottom of the chart\n",
    "m, n = plt.ylim() # finding the values for bottom and top\n",
    "m += 0.5 # Add 0.5 to the bottom\n",
    "n -= 0.5 # Subtract 0.5 from the top\n",
    "plt.ylim(m, n) \n",
    "plt.show() "
   ]
  },
  {
   "cell_type": "code",
   "execution_count": 7,
   "metadata": {},
   "outputs": [
    {
     "name": "stdout",
     "output_type": "stream",
     "text": [
      "Index(['Unnamed: 0', 'price', 'year', 'odometer', 'lat', 'long',\n",
      "       'manufacturer_alfa-romeo', 'manufacturer_aston-martin',\n",
      "       'manufacturer_audi', 'manufacturer_bmw', 'manufacturer_buick',\n",
      "       'manufacturer_cadillac', 'manufacturer_chevrolet',\n",
      "       'manufacturer_chrysler', 'manufacturer_datsun', 'manufacturer_dodge',\n",
      "       'manufacturer_ferrari', 'manufacturer_fiat', 'manufacturer_ford',\n",
      "       'manufacturer_gmc', 'manufacturer_harley-davidson',\n",
      "       'manufacturer_honda', 'manufacturer_hyundai', 'manufacturer_infiniti',\n",
      "       'manufacturer_jaguar', 'manufacturer_jeep', 'manufacturer_kia',\n",
      "       'manufacturer_land rover', 'manufacturer_lexus', 'manufacturer_lincoln',\n",
      "       'manufacturer_mazda', 'manufacturer_mercedes-benz',\n",
      "       'manufacturer_mercury', 'manufacturer_mini', 'manufacturer_mitsubishi',\n",
      "       'manufacturer_nissan', 'manufacturer_pontiac', 'manufacturer_porche',\n",
      "       'manufacturer_ram', 'manufacturer_rover', 'manufacturer_saturn',\n",
      "       'manufacturer_subaru', 'manufacturer_tesla', 'manufacturer_toyota',\n",
      "       'manufacturer_volkswagen', 'manufacturer_volvo', 'fuel_electric',\n",
      "       'fuel_gas', 'fuel_hybrid', 'fuel_other', 'title_status_lien',\n",
      "       'title_status_missing', 'title_status_parts only',\n",
      "       'title_status_rebuilt', 'title_status_salvage', 'transmission_manual',\n",
      "       'transmission_other', 'drive_fwd', 'drive_rwd', 'type_bus',\n",
      "       'type_convertible', 'type_coupe', 'type_hatchback', 'type_mini-van',\n",
      "       'type_offroad', 'type_other', 'type_pickup', 'type_sedan', 'type_truck',\n",
      "       'type_van', 'type_wagon'],\n",
      "      dtype='object')\n"
     ]
    }
   ],
   "source": [
    "#Creating dummy variables\n",
    "df_filtered = pd.get_dummies(df_filtered, drop_first=True)\n",
    "print(df_filtered.columns)"
   ]
  },
  {
   "cell_type": "code",
   "execution_count": 8,
   "metadata": {},
   "outputs": [],
   "source": [
    "#Filling NaN values with 0 - NaNs are longitude and lattitude\n",
    "df_filtered.isnull().any()\n",
    "df_filtered = df_filtered.fillna(value=0)"
   ]
  },
  {
   "cell_type": "code",
   "execution_count": 9,
   "metadata": {},
   "outputs": [],
   "source": [
    "#Scaling our data\n",
    "\n",
    "#Getting column indexes and values w/ iloc and loc for our explanatory variables, scaling\n",
    "X_head = df_filtered.iloc[:, df_filtered.columns != 'price']\n",
    "X = df_filtered.loc[:, df_filtered.columns != 'price']\n",
    "X = StandardScaler().fit_transform(X)\n",
    "\n",
    "#Storing price as our response variable\n",
    "y = df_filtered['price']\n"
   ]
  },
  {
   "cell_type": "code",
   "execution_count": 10,
   "metadata": {},
   "outputs": [],
   "source": [
    "#Creating our Random Forest model\n",
    "from sklearn.ensemble import RandomForestRegressor\n",
    "from sklearn.model_selection import train_test_split\n",
    "from sklearn.metrics import mean_absolute_error as MAE\n",
    "\n",
    "#Creating our training and testing data\n",
    "X_train, X_test, y_train, y_test = train_test_split(X, y, test_size=.25, random_state=0)\n",
    "\n",
    "#Creating model\n",
    "model = RandomForestRegressor(random_state=1)\n",
    "model.fit(X_train, y_train)\n",
    "predictions = model.predict(X_test)"
   ]
  },
  {
   "cell_type": "code",
   "execution_count": 15,
   "metadata": {},
   "outputs": [
    {
     "name": "stdout",
     "output_type": "stream",
     "text": [
      "Mean absolute error: 1925.3442957141492.\n",
      "Price mean: 13411.257070206233.\n",
      "Accuracy percentage: 0.8676858653499075.\n"
     ]
    }
   ],
   "source": [
    "#Checking accuracy of model\n",
    "mean_absolute_error = MAE(y_test, predictions)\n",
    "print(f\"Mean absolute error: {mean_absolute_error}.\")\n",
    "print(f\"Price mean: {df_filtered['price'].mean()}.\")\n",
    "print(f\"Accuracy percentage: {model.score(X_test,y_test)}.\")"
   ]
  },
  {
   "cell_type": "code",
   "execution_count": 16,
   "metadata": {},
   "outputs": [
    {
     "data": {
      "text/plain": [
       "<matplotlib.axes._subplots.AxesSubplot at 0x1a20ea8ac8>"
      ]
     },
     "execution_count": 16,
     "metadata": {},
     "output_type": "execute_result"
    },
    {
     "data": {
      "image/png": "[encoded data removed]",
      "text/plain": [
       "<Figure size 720x720 with 1 Axes>"
      ]
     },
     "metadata": {
      "needs_background": "light"
     },
     "output_type": "display_data"
    }
   ],
   "source": [
    "#Feature Importance\n",
    "feat_importances = pd.Series(model.feature_importances_, index=X_head.columns)\n",
    "feat_importances.nlargest(25).plot(kind='barh',figsize=(10,10))"
   ]
  },
  {
   "cell_type": "code",
   "execution_count": null,
   "metadata": {},
   "outputs": [],
   "source": []
  }
 ],
 "metadata": {
  "kernelspec": {
   "display_name": "Python 3",
   "language": "python",
   "name": "python3"
  },
  "language_info": {
   "codemirror_mode": {
    "name": "ipython",
    "version": 3
   },
   "file_extension": ".py",
   "mimetype": "text/x-python",
   "name": "python",
   "nbconvert_exporter": "python",
   "pygments_lexer": "ipython3",
   "version": "3.7.3"
  }
 },
 "nbformat": 4,
 "nbformat_minor": 2
}
